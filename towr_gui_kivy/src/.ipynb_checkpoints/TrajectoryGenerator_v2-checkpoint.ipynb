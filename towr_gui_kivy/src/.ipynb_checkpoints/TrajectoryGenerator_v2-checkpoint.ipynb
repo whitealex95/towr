{
 "cells": [
  {
   "cell_type": "code",
   "execution_count": 1,
   "id": "6fb41b85",
   "metadata": {},
   "outputs": [],
   "source": [
    "import rospy\n",
    "import std_msgs.msg\n",
    "import rosbag\n",
    "\n",
    "from towr_gui_kivy.msg import TowrCommand2, TowrCommandSeq\n",
    "from xpp_msgs.msg import StateLin3d"
   ]
  },
  {
   "cell_type": "markdown",
   "id": "15e929aa",
   "metadata": {},
   "source": [
    "## Trajectories:"
   ]
  },
  {
   "cell_type": "code",
   "execution_count": 2,
   "id": "7d6cb810",
   "metadata": {},
   "outputs": [],
   "source": [
    "class PublishManager:\n",
    "    def __init__(self, waypoint_pos_list, waypoint_ang_list,\n",
    "                total_duration=3, gait_n=9):\n",
    "        msg = TowrCommandSeq()\n",
    "        n_waypoints = len(waypoint_pos_list)\n",
    "        assert n_waypoints == len(waypoint_ang_list)\n",
    "        for j in range(n_waypoints):\n",
    "            goal_lin = StateLin3d()\n",
    "            x, y, z = waypoint_pos_list[j]\n",
    "            goal_lin.pos.x = x\n",
    "            goal_lin.pos.y = y\n",
    "            goal_lin.pos.z = z\n",
    "            msg.goal_lin_seq.append(goal_lin)\n",
    "\n",
    "            goal_ang = StateLin3d()\n",
    "            [x, y, z] = waypoint_ang_list[j]\n",
    "            goal_ang.pos.x = x\n",
    "            goal_ang.pos.y = y\n",
    "            goal_ang.pos.z = z\n",
    "            msg.goal_ang_seq.append(goal_ang)\n",
    "\n",
    "        # msg.total_duration = 3          # reach in 3sec\n",
    "        msg.total_duration = total_duration          # reach in 3sec\n",
    "        msg.replay_trajectory = False\n",
    "        msg.replay_speed = 1            # x1.00 speed\n",
    "        msg.play_initialization = False\n",
    "        msg.plot_trajectory = False\n",
    "        msg.optimize = True             # optimize trajectory\n",
    "        msg.robot = 4                   # 0: monoped, 1: biped, 4: Aliengo\n",
    "        msg.terrain = 0\n",
    "        msg.gait = 0                    # 0: walk, 1: trot\n",
    "        msg.gait = 1                    # 0: walk, 1: trot\n",
    "        msg.gait_n = gait_n                  # default: 6 gait blocks prob?\n",
    "        # msg.gait_n = 9                  # default: 6 gait blocks prob?\n",
    "        msg.optimize_phase_durations = False\n",
    "        # msg.optimize_phase_durations = True\n",
    "\n",
    "        self.msg = msg\n",
    "\n",
    "    def set_waypoints(self, waypoints):\n",
    "        self.msg.goal_lin_seq.clear()\n",
    "        self.msg.goal_ang_seq.clear()\n",
    "\n",
    "        for waypoint in waypoints:\n",
    "            goal_lin = StateLin3d()\n",
    "            [x,y,z] = waypoint.world_pos\n",
    "            goal_lin.pos.x = x\n",
    "            goal_lin.pos.y = y\n",
    "            goal_lin.pos.z = z\n",
    "            self.msg.goal_lin_seq.append(goal_lin)\n",
    "\n",
    "            goal_ang = StateLin3d()\n",
    "            [x, y, z] = waypoint.world_ang\n",
    "            goal_ang.pos.x = x\n",
    "            goal_ang.pos.y = y\n",
    "            goal_ang.pos.z = z\n",
    "            self.msg.goal_ang_seq.append(goal_ang)\n",
    "\n",
    "    def publish(self):\n",
    "#         print(self.msg)\n",
    "        pub.publish(self.msg)\n",
    "\n",
    "def merge_bags(output_bag, n_bags):\n",
    "    input_bag_list = [f'/home/whitealex95/.ros/towr_trajectory-{i}.bag' for i in range(n_bags)]\n",
    "    print(f'Start merging {n_bags} bags to {output_bag}')\n",
    "    with rosbag.Bag(output_bag, 'w') as outbag:\n",
    "        t_margin = rospy.Duration.from_sec(0)\n",
    "        for input_bag in input_bag_list:\n",
    "            for topic, msg, t in rosbag.Bag(input_bag).read_messages():\n",
    "                outbag.write(topic, msg, t+t_margin)\n",
    "            t_margin = rospy.Duration.from_sec((t+t_margin).to_sec())\n",
    "    print('Done')\n",
    "    "
   ]
  },
  {
   "cell_type": "code",
   "execution_count": 3,
   "id": "d9c18b8d",
   "metadata": {},
   "outputs": [],
   "source": [
    "pub = rospy.Publisher('/towr/user_command_seq', TowrCommandSeq, queue_size=1)\n",
    "# rospy.Subscriber(\"/towr/ros_vis_traj\", std_msgs.msg.String, sub_callback)\n",
    "rospy.init_node('ros_gui_kivy', anonymous=False)"
   ]
  },
  {
   "cell_type": "markdown",
   "id": "77a2fa58",
   "metadata": {},
   "source": [
    "### Type (1/4) : Tilt\n",
    "#### Notes\n",
    "- s1.5, d3, n9 is bad. prefer n7,n8\n",
    "- generate wrong force when d6_n7 but ok when n8\n",
    "\n",
    "- Best case: \n",
    "- (s, d, n)\n",
    "- (1, 5, 7)\n",
    "- (1, 5, 8)\n",
    "- (1.25, 5, 7)\n",
    "- (1.25, 5, 8)\n",
    "- (1.5, 5, 8)\n",
    "- (1.5, 5, 7)\n",
    "- (1.75, 5, 8)\n",
    "- (1.75, 5, 9)\n",
    "- (2.0, 5, 8)\n",
    "\n",
    "- (2.25, 5, 8)\n",
    "- (2.25, 5, 9)"
   ]
  },
  {
   "cell_type": "code",
   "execution_count": 109,
   "id": "7189319a",
   "metadata": {},
   "outputs": [
    {
     "name": "stdout",
     "output_type": "stream",
     "text": [
      "[[  2.5          0.           0.        ]\n",
      " [  5.           0.           0.        ]\n",
      " [  7.41481457  -0.64704761   0.        ]\n",
      " [  9.57987808  -1.89704761   0.        ]\n",
      " [ 11.34764503  -3.66481457   0.        ]\n",
      " [ 12.59764503  -5.82987808   0.        ]\n",
      " [ 12.59764503  -8.32987808   0.        ]\n",
      " [ 12.59764503 -10.82987808   0.        ]\n",
      " [ 13.24469264 -13.24469264   0.        ]\n",
      " [ 14.49469264 -15.40975615   0.        ]\n",
      " [ 16.26245959 -17.1775231    0.        ]\n",
      " [ 18.4275231  -18.4275231    0.        ]\n",
      " [ 20.9275231  -18.4275231    0.        ]] [[0. 0. 0.]\n",
      " [0. 0. 0.]\n",
      " [0. 0. 0.]\n",
      " [0. 0. 0.]\n",
      " [0. 0. 0.]\n",
      " [0. 0. 0.]\n",
      " [0. 0. 0.]\n",
      " [0. 0. 0.]\n",
      " [0. 0. 0.]\n",
      " [0. 0. 0.]\n",
      " [0. 0. 0.]\n",
      " [0. 0. 0.]\n",
      " [0. 0. 0.]]\n"
     ]
    }
   ],
   "source": [
    "import math\n",
    "import numpy as np\n",
    "def cos(x):\n",
    "    return math.cos(math.pi/180 * x)\n",
    "def sin(x):\n",
    "    return math.sin(math.pi/180 * x)\n",
    "\n",
    "scale = 2.5\n",
    "PI = 3.141592\n",
    "flip = True\n",
    "# start: pos=[0,0,0], ang=[0,0,0]\n",
    "\n",
    "tilt_angles = np.array([0, 0, 15, 30, 45, 60, 90, 90, 75, 60, 45, 30, 0])\n",
    "if flip:\n",
    "    tilt_angles *= -1\n",
    "WP_pos = []\n",
    "WP_ang = []\n",
    "\n",
    "last_pos = np.array([0,0,0])\n",
    "for ang in tilt_angles:\n",
    "    cur_pos = last_pos + np.array([cos(ang), sin(ang), 0])\n",
    "    WP_pos.append(cur_pos)\n",
    "    WP_ang.append(np.zeros(3))\n",
    "    last_pos = cur_pos\n",
    "\n",
    "WP_pos = np.array(WP_pos) * scale\n",
    "WP_ang = np.array(WP_ang) * scale\n",
    "print(WP_pos, WP_ang)\n",
    "\n",
    "seq_name = 'style1-tilt'\n",
    "if scale != 1:\n",
    "    seq_name += f'-s{scale}'\n",
    "if flip:\n",
    "    seq_name += f'-flip'\n",
    "\n",
    "v = 1\n",
    "d = 5\n",
    "n = 10\n",
    "\n",
    "pm = PublishManager(WP_pos, WP_ang, total_duration=d, gait_n = n)\n",
    "pm.publish()\n"
   ]
  },
  {
   "cell_type": "code",
   "execution_count": 108,
   "id": "450cfbfd",
   "metadata": {},
   "outputs": [
    {
     "name": "stdout",
     "output_type": "stream",
     "text": [
      "Start merging 13 bags to /home/whitealex95/.ros/towr_trajectory/style1-tilt-s2.25-flip_v1_d5_n9.bag\n",
      "Done\n"
     ]
    }
   ],
   "source": [
    "out_folder = '/home/whitealex95/.ros/'\n",
    "out_bag_name = f'towr_trajectory/{seq_name}_v{v}_d{d}_n{n}.bag'\n",
    "merge_bags(out_folder+out_bag_name, len(WP_pos))"
   ]
  },
  {
   "cell_type": "markdown",
   "id": "def82980",
   "metadata": {},
   "source": [
    "### Type (2/4) : Curve\n",
    "#### Notes\n",
    "- s1.5, d3, n9 is bad. prefer n7,n8\n",
    "- generate wrong force when d6_n7 but ok when n8\n",
    "\n",
    "- Best case: \n",
    "- (s, d, n)\n",
    "- (1, 5, 7)\n",
    "- (1, 5, 8)\n",
    "- (1.25, 5, 7)\n",
    "- (1.25, 5, 8)\n",
    "- (1.5, 5, 8)\n",
    "- (1.5, 5, 7)\n",
    "- (1.75, 5, 8)\n",
    "- (1.75, 5, 9)\n",
    "- (2.0, 5, 8)\n",
    "\n",
    "- (2.5, 5, 9)\n",
    "- (2.75, 5, 9)\n",
    "- (3.0, 5, 10)"
   ]
  },
  {
   "cell_type": "code",
   "execution_count": 180,
   "id": "b5e5dcfe",
   "metadata": {},
   "outputs": [
    {
     "name": "stdout",
     "output_type": "stream",
     "text": [
      "[[ 0.5        -0.5         0.        ]\n",
      " [ 0.62940952 -1.48296291  0.        ]\n",
      " [ 1.11237244 -2.31947922  0.        ]\n",
      " [ 1.96592583 -2.67303261  0.        ]\n",
      " [ 2.81947922 -2.31947922  0.        ]\n",
      " [ 3.30244213 -1.48296291  0.        ]\n",
      " [ 3.93185165 -1.          0.        ]] [[ 0.          0.         -1.57079633]\n",
      " [ 0.          0.         -1.30899694]\n",
      " [ 0.          0.         -0.78539816]\n",
      " [ 0.          0.          0.        ]\n",
      " [ 0.          0.          0.78539816]\n",
      " [ 0.          0.          1.30899694]\n",
      " [ 0.          0.          0.        ]]\n"
     ]
    }
   ],
   "source": [
    "import math\n",
    "import numpy as np\n",
    "def cos(x):\n",
    "    return math.cos(math.pi/180 * x)\n",
    "def sin(x):\n",
    "    return math.sin(math.pi/180 * x)\n",
    "def deg2rad(x):\n",
    "    return math.pi/180 * x\n",
    "scale = 1\n",
    "flip = True\n",
    "# start: pos=[0,0,0], ang=[0,0,0]\n",
    "\n",
    "tilt_angles = np.array([90, 75, 45, 0, -45, -75, 0])\n",
    "if flip:\n",
    "    tilt_angles *= -1\n",
    "WP_pos = []\n",
    "WP_ang = []\n",
    "\n",
    "last_pos = np.array([0,0,0])\n",
    "last_ang = 0\n",
    "for ang in tilt_angles:\n",
    "    cur_pos = last_pos + np.array([cos(last_ang) + cos(ang), sin(last_ang) + sin(ang), 0])/2\n",
    "    WP_pos.append(cur_pos)\n",
    "    WP_ang.append(np.array([0, 0, deg2rad(ang)]))\n",
    "    last_pos = cur_pos\n",
    "    last_ang = ang\n",
    "\n",
    "WP_pos = np.array(WP_pos) * scale\n",
    "WP_ang = np.array(WP_ang)# * scale\n",
    "print(WP_pos, WP_ang)\n",
    "\n",
    "seq_name = 'style2-curve'\n",
    "if scale != 1:\n",
    "    seq_name += f'-s{scale}'\n",
    "if flip:\n",
    "    seq_name += f'-flip'\n",
    "\n",
    "v = 1\n",
    "d = 5\n",
    "n = 7\n",
    "\n",
    "pm = PublishManager(WP_pos, WP_ang, total_duration=d, gait_n = n)\n",
    "pm.publish()\n"
   ]
  },
  {
   "cell_type": "code",
   "execution_count": 181,
   "id": "7b613cac",
   "metadata": {
    "scrolled": true
   },
   "outputs": [
    {
     "name": "stdout",
     "output_type": "stream",
     "text": [
      "Start merging 7 bags to /home/whitealex95/.ros/towr_trajectory/style2-curve-flip_v1_d5_n7.bag\n",
      "Done\n"
     ]
    }
   ],
   "source": [
    "out_folder = '/home/whitealex95/.ros/'\n",
    "out_bag_name = f'towr_trajectory/{seq_name}_v{v}_d{d}_n{n}.bag'\n",
    "merge_bags(out_folder+out_bag_name, len(WP_pos))"
   ]
  },
  {
   "cell_type": "markdown",
   "id": "26db1626",
   "metadata": {},
   "source": [
    "### Type (3/4) : Spin\n",
    "#### Notes\n",
    "- s1.5, d3, n9 is bad. prefer n7,n8\n",
    "- generate wrong force when d6_n7 but ok when n8\n",
    "\n",
    "- Best case: \n",
    "- (s, d, n)\n",
    "- (1, 5, 9)\n",
    "- (1, 6.5, 11)\n",
    "- (1, 8, 12)\n",
    "\n",
    "Didn't flip"
   ]
  },
  {
   "cell_type": "code",
   "execution_count": 214,
   "id": "fdb0e35a",
   "metadata": {},
   "outputs": [
    {
     "name": "stdout",
     "output_type": "stream",
     "text": [
      "[[0. 0. 0.]\n",
      " [0. 0. 0.]\n",
      " [0. 0. 0.]\n",
      " [0. 0. 0.]] [[ 0.          0.         -1.57079633]\n",
      " [ 0.          0.          0.        ]\n",
      " [ 0.          0.         -3.14159265]\n",
      " [ 0.          0.          0.        ]]\n"
     ]
    }
   ],
   "source": [
    "import math\n",
    "import numpy as np\n",
    "def cos(x):\n",
    "    return math.cos(math.pi/180 * x)\n",
    "def sin(x):\n",
    "    return math.sin(math.pi/180 * x)\n",
    "def deg2rad(x):\n",
    "    return math.pi/180 * x\n",
    "scale = 1\n",
    "flip = False\n",
    "# start: pos=[0,0,0], ang=[0,0,0]\n",
    "\n",
    "tilt_angles = np.array([90, 0, 180, 0])\n",
    "if flip:\n",
    "    tilt_angles *= -1\n",
    "WP_pos = []\n",
    "WP_ang = []\n",
    "\n",
    "last_pos = np.array([0,0,0])\n",
    "last_ang = 0\n",
    "for ang in tilt_angles:\n",
    "#     cur_pos = last_pos + np.array([cos(last_ang) + cos(ang), sin(last_ang) + sin(ang), 0])/2\n",
    "    WP_pos.append(np.zeros(3))\n",
    "    WP_ang.append(np.array([0, 0, deg2rad(ang)]))\n",
    "    last_pos = cur_pos\n",
    "    last_ang = ang\n",
    "\n",
    "WP_pos = np.array(WP_pos) * scale\n",
    "WP_ang = np.array(WP_ang)# * scale\n",
    "print(WP_pos, WP_ang)\n",
    "\n",
    "seq_name = 'style3-spin'\n",
    "if scale != 1:\n",
    "    seq_name += f'-s{scale}'\n",
    "if flip:\n",
    "    seq_name += f'-flip'\n",
    "\n",
    "v = 1\n",
    "d = 6.5\n",
    "n = 11\n",
    "\n",
    "pm = PublishManager(WP_pos, WP_ang, total_duration=d, gait_n = n)\n",
    "pm.publish()\n"
   ]
  },
  {
   "cell_type": "code",
   "execution_count": 207,
   "id": "d5fe9f36",
   "metadata": {},
   "outputs": [
    {
     "name": "stdout",
     "output_type": "stream",
     "text": [
      "Start merging 4 bags to /home/whitealex95/.ros/towr_trajectory/style3-spin_v1_d8_n12.bag\n",
      "Done\n"
     ]
    }
   ],
   "source": [
    "out_folder = '/home/whitealex95/.ros/'\n",
    "out_bag_name = f'towr_trajectory/{seq_name}_v{v}_d{d}_n{n}.bag'\n",
    "merge_bags(out_folder+out_bag_name, len(WP_pos))"
   ]
  },
  {
   "cell_type": "markdown",
   "id": "1221de40",
   "metadata": {},
   "source": [
    "### Type (4/4) :BackTurn\n",
    "#### Notes\n",
    "- s1.5, d3, n9 is bad. prefer n7,n8\n",
    "- generate wrong force when d6_n7 but ok when n8\n",
    "\n",
    "- Best case: \n",
    "- (s, d, n)\n",
    "- (1, 5, 9)\n",
    "- (1, 6, 10)\n",
    "- (1, 7, 12)\n",
    "- (1, 8, 13)\n",
    "\n",
    "### Flipped:\n",
    "- (1, 5, 8)\n",
    "- (1, 6, 10)\n",
    "- (1, 7, 11)\n",
    "- (1, 8, 12)\n"
   ]
  },
  {
   "cell_type": "code",
   "execution_count": 247,
   "id": "597e683b",
   "metadata": {},
   "outputs": [
    {
     "name": "stdout",
     "output_type": "stream",
     "text": [
      "[[-2.92893219e-01 -7.07106781e-01  0.00000000e+00]\n",
      " [ 0.00000000e+00  0.00000000e+00  0.00000000e+00]\n",
      " [-2.00000000e+00 -1.22464680e-16  0.00000000e+00]\n",
      " [ 0.00000000e+00  0.00000000e+00  0.00000000e+00]\n",
      " [-1.00000000e+00 -1.00000000e+00  0.00000000e+00]\n",
      " [ 0.00000000e+00  0.00000000e+00  0.00000000e+00]] [[ 0.          0.         -0.78539816]\n",
      " [ 0.          0.          0.        ]\n",
      " [ 0.          0.         -3.14159265]\n",
      " [ 0.          0.          0.        ]\n",
      " [ 0.          0.         -1.57079633]\n",
      " [ 0.          0.          0.        ]]\n"
     ]
    }
   ],
   "source": [
    "import math\n",
    "import numpy as np\n",
    "def cos(x):\n",
    "    return math.cos(math.pi/180 * x)\n",
    "def sin(x):\n",
    "    return math.sin(math.pi/180 * x)\n",
    "def deg2rad(x):\n",
    "    return math.pi/180 * x\n",
    "scale = 1\n",
    "flip = True\n",
    "# start: pos=[0,0,0], ang=[0,0,0]\n",
    "\n",
    "tilt_angles = np.array([45, 0, 180, 0, 90, 0])\n",
    "# tilt_angles = np.array([45, 0, ])#90, 0, 135, 180])\n",
    "if flip:\n",
    "    tilt_angles *= -1\n",
    "WP_pos = []\n",
    "WP_ang = []\n",
    "\n",
    "last_pos = np.array([0,0,0])\n",
    "last_ang = 0\n",
    "for ang in tilt_angles:\n",
    "    cur_pos = np.array([-1 + cos(ang), sin(ang), 0])\n",
    "    WP_pos.append(cur_pos)\n",
    "    WP_ang.append(np.array([0, 0, deg2rad(ang)]))\n",
    "    last_pos = cur_pos\n",
    "    last_ang = ang\n",
    "\n",
    "WP_pos = np.array(WP_pos) * scale\n",
    "WP_ang = np.array(WP_ang)# * scale\n",
    "print(WP_pos, WP_ang)\n",
    "\n",
    "seq_name = 'style4-backturn'\n",
    "if scale != 1:\n",
    "    seq_name += f'-s{scale}'\n",
    "if flip:\n",
    "    seq_name += f'-flip'\n",
    "\n",
    "v = 1\n",
    "d = 8\n",
    "n = 12\n",
    "\n",
    "pm = PublishManager(WP_pos, WP_ang, total_duration=d, gait_n = n)\n",
    "pm.publish()\n"
   ]
  },
  {
   "cell_type": "code",
   "execution_count": 248,
   "id": "4b6499ca",
   "metadata": {},
   "outputs": [
    {
     "name": "stdout",
     "output_type": "stream",
     "text": [
      "Start merging 6 bags to /home/whitealex95/.ros/towr_trajectory/style4-backturn-flip_v1_d8_n12.bag\n",
      "Done\n"
     ]
    }
   ],
   "source": [
    "out_folder = '/home/whitealex95/.ros/'\n",
    "out_bag_name = f'towr_trajectory/{seq_name}_v{v}_d{d}_n{n}.bag'\n",
    "merge_bags(out_folder+out_bag_name, len(WP_pos))"
   ]
  },
  {
   "cell_type": "code",
   "execution_count": null,
   "id": "27738277",
   "metadata": {},
   "outputs": [],
   "source": []
  }
 ],
 "metadata": {
  "kernelspec": {
   "display_name": "Python 3 (ipykernel)",
   "language": "python",
   "name": "python3"
  },
  "language_info": {
   "codemirror_mode": {
    "name": "ipython",
    "version": 3
   },
   "file_extension": ".py",
   "mimetype": "text/x-python",
   "name": "python",
   "nbconvert_exporter": "python",
   "pygments_lexer": "ipython3",
   "version": "3.9.7"
  }
 },
 "nbformat": 4,
 "nbformat_minor": 5
}
